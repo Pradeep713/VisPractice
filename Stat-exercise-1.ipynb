{
 "cells": [
  {
   "cell_type": "code",
   "execution_count": 1,
   "id": "b6ad3019",
   "metadata": {},
   "outputs": [],
   "source": [
    "import requests\n",
    "url = 'https://raw.githubusercontent.com/codebasics/math-for-machine-learning/main/3_normal_distribution/Exercise/bhp.csv'\n",
    "res = requests.get(url, allow_redirects = True)\n",
    "with open(\"banglore_price.csv\", 'wb') as file:\n",
    "    file.write(res.content)"
   ]
  },
  {
   "cell_type": "code",
   "execution_count": 2,
   "id": "36e3b830",
   "metadata": {
    "scrolled": false
   },
   "outputs": [
    {
     "data": {
      "text/html": [
       "<div>\n",
       "<style scoped>\n",
       "    .dataframe tbody tr th:only-of-type {\n",
       "        vertical-align: middle;\n",
       "    }\n",
       "\n",
       "    .dataframe tbody tr th {\n",
       "        vertical-align: top;\n",
       "    }\n",
       "\n",
       "    .dataframe thead th {\n",
       "        text-align: right;\n",
       "    }\n",
       "</style>\n",
       "<table border=\"1\" class=\"dataframe\">\n",
       "  <thead>\n",
       "    <tr style=\"text-align: right;\">\n",
       "      <th></th>\n",
       "      <th>location</th>\n",
       "      <th>size</th>\n",
       "      <th>total_sqft</th>\n",
       "      <th>bath</th>\n",
       "      <th>price</th>\n",
       "      <th>bhk</th>\n",
       "      <th>price_per_sqft</th>\n",
       "    </tr>\n",
       "  </thead>\n",
       "  <tbody>\n",
       "    <tr>\n",
       "      <th>0</th>\n",
       "      <td>Electronic City Phase II</td>\n",
       "      <td>2 BHK</td>\n",
       "      <td>1056.0</td>\n",
       "      <td>2.0</td>\n",
       "      <td>39.07</td>\n",
       "      <td>2</td>\n",
       "      <td>3699</td>\n",
       "    </tr>\n",
       "    <tr>\n",
       "      <th>1</th>\n",
       "      <td>Chikka Tirupathi</td>\n",
       "      <td>4 Bedroom</td>\n",
       "      <td>2600.0</td>\n",
       "      <td>5.0</td>\n",
       "      <td>120.00</td>\n",
       "      <td>4</td>\n",
       "      <td>4615</td>\n",
       "    </tr>\n",
       "    <tr>\n",
       "      <th>2</th>\n",
       "      <td>Uttarahalli</td>\n",
       "      <td>3 BHK</td>\n",
       "      <td>1440.0</td>\n",
       "      <td>2.0</td>\n",
       "      <td>62.00</td>\n",
       "      <td>3</td>\n",
       "      <td>4305</td>\n",
       "    </tr>\n",
       "    <tr>\n",
       "      <th>3</th>\n",
       "      <td>Lingadheeranahalli</td>\n",
       "      <td>3 BHK</td>\n",
       "      <td>1521.0</td>\n",
       "      <td>3.0</td>\n",
       "      <td>95.00</td>\n",
       "      <td>3</td>\n",
       "      <td>6245</td>\n",
       "    </tr>\n",
       "    <tr>\n",
       "      <th>4</th>\n",
       "      <td>Kothanur</td>\n",
       "      <td>2 BHK</td>\n",
       "      <td>1200.0</td>\n",
       "      <td>2.0</td>\n",
       "      <td>51.00</td>\n",
       "      <td>2</td>\n",
       "      <td>4250</td>\n",
       "    </tr>\n",
       "  </tbody>\n",
       "</table>\n",
       "</div>"
      ],
      "text/plain": [
       "                   location       size  total_sqft  bath   price  bhk  \\\n",
       "0  Electronic City Phase II      2 BHK      1056.0   2.0   39.07    2   \n",
       "1          Chikka Tirupathi  4 Bedroom      2600.0   5.0  120.00    4   \n",
       "2               Uttarahalli      3 BHK      1440.0   2.0   62.00    3   \n",
       "3        Lingadheeranahalli      3 BHK      1521.0   3.0   95.00    3   \n",
       "4                  Kothanur      2 BHK      1200.0   2.0   51.00    2   \n",
       "\n",
       "   price_per_sqft  \n",
       "0            3699  \n",
       "1            4615  \n",
       "2            4305  \n",
       "3            6245  \n",
       "4            4250  "
      ]
     },
     "execution_count": 2,
     "metadata": {},
     "output_type": "execute_result"
    }
   ],
   "source": [
    "import pandas as pd\n",
    "df = pd.read_csv(\"banglore_price.csv\")\n",
    "df.head()"
   ]
  },
  {
   "cell_type": "code",
   "execution_count": 3,
   "id": "04173e38",
   "metadata": {
    "scrolled": false
   },
   "outputs": [
    {
     "data": {
      "text/plain": [
       "count    1.320000e+04\n",
       "mean     7.920337e+03\n",
       "std      1.067272e+05\n",
       "min      2.670000e+02\n",
       "25%      4.267000e+03\n",
       "50%      5.438000e+03\n",
       "75%      7.317000e+03\n",
       "max      1.200000e+07\n",
       "Name: price_per_sqft, dtype: float64"
      ]
     },
     "execution_count": 3,
     "metadata": {},
     "output_type": "execute_result"
    }
   ],
   "source": [
    "df.price_per_sqft.describe()"
   ]
  },
  {
   "cell_type": "code",
   "execution_count": 4,
   "id": "9f2a136e",
   "metadata": {
    "scrolled": false
   },
   "outputs": [
    {
     "data": {
      "image/png": "[encoded data removed]",
      "text/plain": [
       "<Figure size 432x288 with 1 Axes>"
      ]
     },
     "metadata": {
      "needs_background": "light"
     },
     "output_type": "display_data"
    }
   ],
   "source": [
    "import matplotlib.pyplot as plt\n",
    "plt.hist(df.price_per_sqft, bins = 20, rwidth=0.8)\n",
    "plt.xlabel(\"Price per sq feet\")\n",
    "plt.ylabel(\"Count\")\n",
    "plt.yscale(\"log\")\n",
    "plt.show()"
   ]
  },
  {
   "cell_type": "code",
   "execution_count": 5,
   "id": "047d15e2",
   "metadata": {},
   "outputs": [
    {
     "data": {
      "text/plain": [
       "(1366.184, 50959.36200000098)"
      ]
     },
     "execution_count": 5,
     "metadata": {},
     "output_type": "execute_result"
    }
   ],
   "source": [
    "ll, ul = df.price_per_sqft.quantile([0.001, 0.999])\n",
    "ll, ul"
   ]
  },
  {
   "cell_type": "code",
   "execution_count": 6,
   "id": "c7ff33a0",
   "metadata": {},
   "outputs": [
    {
     "data": {
      "text/plain": [
       "(28, 7)"
      ]
     },
     "execution_count": 6,
     "metadata": {},
     "output_type": "execute_result"
    }
   ],
   "source": [
    "outliers = df[(df.price_per_sqft < ll) | (df.price_per_sqft > ul)]\n",
    "outliers.shape"
   ]
  },
  {
   "cell_type": "code",
   "execution_count": 7,
   "id": "d9c3ba32",
   "metadata": {},
   "outputs": [
    {
     "data": {
      "text/plain": [
       "12000000"
      ]
     },
     "execution_count": 7,
     "metadata": {},
     "output_type": "execute_result"
    }
   ],
   "source": [
    "outliers.max().price_per_sqft"
   ]
  },
  {
   "cell_type": "code",
   "execution_count": 8,
   "id": "99fb77c7",
   "metadata": {},
   "outputs": [
    {
     "data": {
      "text/plain": [
       "(13172, 7)"
      ]
     },
     "execution_count": 8,
     "metadata": {},
     "output_type": "execute_result"
    }
   ],
   "source": [
    "df_by_percentile = df[(df.price_per_sqft > ll) & (df.price_per_sqft < ul)]\n",
    "df_by_percentile.shape"
   ]
  },
  {
   "cell_type": "code",
   "execution_count": 9,
   "id": "e5a42e28",
   "metadata": {},
   "outputs": [
    {
     "data": {
      "text/plain": [
       "(23227.73653589429, -9900.429065502549)"
      ]
     },
     "execution_count": 9,
     "metadata": {},
     "output_type": "execute_result"
    }
   ],
   "source": [
    "mal = df_by_percentile.price_per_sqft.mean() + 4*df_by_percentile.price_per_sqft.std()\n",
    "mil = df_by_percentile.price_per_sqft.mean() - 4*df_by_percentile.price_per_sqft.std()\n",
    "mal, mil"
   ]
  },
  {
   "cell_type": "code",
   "execution_count": 10,
   "id": "c011bf35",
   "metadata": {},
   "outputs": [
    {
     "data": {
      "text/plain": [
       "(13047, 7)"
      ]
     },
     "execution_count": 10,
     "metadata": {},
     "output_type": "execute_result"
    }
   ],
   "source": [
    "df_by_std = df_by_percentile[(df_by_percentile.price_per_sqft > mil) & \n",
    "                             (df_by_percentile.price_per_sqft < mal)]\n",
    "df_by_std.shape"
   ]
  },
  {
   "cell_type": "code",
   "execution_count": 11,
   "id": "4ed07fd1",
   "metadata": {
    "scrolled": true
   },
   "outputs": [
    {
     "data": {
      "image/png": "[encoded data removed]",
      "text/plain": [
       "<Figure size 432x288 with 1 Axes>"
      ]
     },
     "metadata": {
      "needs_background": "light"
     },
     "output_type": "display_data"
    }
   ],
   "source": [
    "plt.hist(df_by_std.price_per_sqft, bins = 20, rwidth=0.8)\n",
    "plt.xlabel('Price per square ft')\n",
    "plt.ylabel('Count')\n",
    "plt.show()"
   ]
  },
  {
   "cell_type": "code",
   "execution_count": 12,
   "id": "6e2d5fbb",
   "metadata": {
    "scrolled": true
   },
   "outputs": [
    {
     "data": {
      "text/plain": [
       "[Text(0.5, 0, 'Price'), Text(0, 0.5, 'Count')]"
      ]
     },
     "execution_count": 12,
     "metadata": {},
     "output_type": "execute_result"
    },
    {
     "data": {
      "image/png": "[encoded data removed]",
      "text/plain": [
       "<Figure size 432x288 with 1 Axes>"
      ]
     },
     "metadata": {},
     "output_type": "display_data"
    }
   ],
   "source": [
    "import seaborn as sns\n",
    "sns.set(style = 'whitegrid')\n",
    "g = sns.histplot(x=df_by_std.price_per_sqft, data = df_by_std, kde=True)\n",
    "g.set(xlabel = \"Price\", ylabel = \"Count\")"
   ]
  },
  {
   "cell_type": "markdown",
   "id": "abee4126",
   "metadata": {},
   "source": [
    "# Z-Score : (x - mean)/std"
   ]
  },
  {
   "cell_type": "code",
   "execution_count": 13,
   "id": "9763a017",
   "metadata": {
    "scrolled": true
   },
   "outputs": [
    {
     "name": "stderr",
     "output_type": "stream",
     "text": [
      "<ipython-input-13-c2f73ee6b762>:1: SettingWithCopyWarning: \n",
      "A value is trying to be set on a copy of a slice from a DataFrame.\n",
      "Try using .loc[row_indexer,col_indexer] = value instead\n",
      "\n",
      "See the caveats in the documentation: https://pandas.pydata.org/pandas-docs/stable/user_guide/indexing.html#returning-a-view-versus-a-copy\n",
      "  df_by_percentile['z-score'] = (df_by_percentile.price_per_sqft - df_by_percentile.price_per_sqft.mean()) / df_by_percentile.price_per_sqft.std()\n"
     ]
    },
    {
     "data": {
      "text/html": [
       "<div>\n",
       "<style scoped>\n",
       "    .dataframe tbody tr th:only-of-type {\n",
       "        vertical-align: middle;\n",
       "    }\n",
       "\n",
       "    .dataframe tbody tr th {\n",
       "        vertical-align: top;\n",
       "    }\n",
       "\n",
       "    .dataframe thead th {\n",
       "        text-align: right;\n",
       "    }\n",
       "</style>\n",
       "<table border=\"1\" class=\"dataframe\">\n",
       "  <thead>\n",
       "    <tr style=\"text-align: right;\">\n",
       "      <th></th>\n",
       "      <th>location</th>\n",
       "      <th>size</th>\n",
       "      <th>total_sqft</th>\n",
       "      <th>bath</th>\n",
       "      <th>price</th>\n",
       "      <th>bhk</th>\n",
       "      <th>price_per_sqft</th>\n",
       "      <th>z-score</th>\n",
       "    </tr>\n",
       "  </thead>\n",
       "  <tbody>\n",
       "    <tr>\n",
       "      <th>9677</th>\n",
       "      <td>Marathahalli</td>\n",
       "      <td>2 BHK</td>\n",
       "      <td>1270.00</td>\n",
       "      <td>2.0</td>\n",
       "      <td>73.00</td>\n",
       "      <td>2</td>\n",
       "      <td>5748</td>\n",
       "      <td>-0.221118</td>\n",
       "    </tr>\n",
       "    <tr>\n",
       "      <th>10178</th>\n",
       "      <td>Electronic City</td>\n",
       "      <td>2 BHK</td>\n",
       "      <td>1065.00</td>\n",
       "      <td>2.0</td>\n",
       "      <td>30.76</td>\n",
       "      <td>2</td>\n",
       "      <td>2888</td>\n",
       "      <td>-0.911769</td>\n",
       "    </tr>\n",
       "    <tr>\n",
       "      <th>7222</th>\n",
       "      <td>Hebbal</td>\n",
       "      <td>3 BHK</td>\n",
       "      <td>1355.00</td>\n",
       "      <td>3.0</td>\n",
       "      <td>83.87</td>\n",
       "      <td>3</td>\n",
       "      <td>6189</td>\n",
       "      <td>-0.114622</td>\n",
       "    </tr>\n",
       "    <tr>\n",
       "      <th>2261</th>\n",
       "      <td>Bannerghatta Road</td>\n",
       "      <td>2 BHK</td>\n",
       "      <td>1255.00</td>\n",
       "      <td>2.0</td>\n",
       "      <td>65.26</td>\n",
       "      <td>2</td>\n",
       "      <td>5200</td>\n",
       "      <td>-0.353452</td>\n",
       "    </tr>\n",
       "    <tr>\n",
       "      <th>3074</th>\n",
       "      <td>Hosa Road</td>\n",
       "      <td>3 BHK</td>\n",
       "      <td>1541.00</td>\n",
       "      <td>3.0</td>\n",
       "      <td>69.84</td>\n",
       "      <td>3</td>\n",
       "      <td>4532</td>\n",
       "      <td>-0.514765</td>\n",
       "    </tr>\n",
       "    <tr>\n",
       "      <th>5101</th>\n",
       "      <td>Seegehalli</td>\n",
       "      <td>2 BHK</td>\n",
       "      <td>1096.00</td>\n",
       "      <td>2.0</td>\n",
       "      <td>41.00</td>\n",
       "      <td>2</td>\n",
       "      <td>3740</td>\n",
       "      <td>-0.706022</td>\n",
       "    </tr>\n",
       "    <tr>\n",
       "      <th>6786</th>\n",
       "      <td>Ardendale</td>\n",
       "      <td>3 BHK</td>\n",
       "      <td>1777.26</td>\n",
       "      <td>3.0</td>\n",
       "      <td>105.00</td>\n",
       "      <td>3</td>\n",
       "      <td>5907</td>\n",
       "      <td>-0.182722</td>\n",
       "    </tr>\n",
       "    <tr>\n",
       "      <th>8186</th>\n",
       "      <td>Electronic City</td>\n",
       "      <td>3 BHK</td>\n",
       "      <td>1470.00</td>\n",
       "      <td>2.0</td>\n",
       "      <td>44.10</td>\n",
       "      <td>3</td>\n",
       "      <td>3000</td>\n",
       "      <td>-0.884722</td>\n",
       "    </tr>\n",
       "    <tr>\n",
       "      <th>139</th>\n",
       "      <td>Yelahanka</td>\n",
       "      <td>5 BHK</td>\n",
       "      <td>3050.00</td>\n",
       "      <td>5.0</td>\n",
       "      <td>213.00</td>\n",
       "      <td>5</td>\n",
       "      <td>6983</td>\n",
       "      <td>0.077118</td>\n",
       "    </tr>\n",
       "    <tr>\n",
       "      <th>11473</th>\n",
       "      <td>other</td>\n",
       "      <td>2 BHK</td>\n",
       "      <td>1500.00</td>\n",
       "      <td>2.0</td>\n",
       "      <td>60.00</td>\n",
       "      <td>2</td>\n",
       "      <td>4000</td>\n",
       "      <td>-0.643236</td>\n",
       "    </tr>\n",
       "    <tr>\n",
       "      <th>4969</th>\n",
       "      <td>Electronic City</td>\n",
       "      <td>2 BHK</td>\n",
       "      <td>1090.00</td>\n",
       "      <td>2.0</td>\n",
       "      <td>35.03</td>\n",
       "      <td>2</td>\n",
       "      <td>3213</td>\n",
       "      <td>-0.833286</td>\n",
       "    </tr>\n",
       "    <tr>\n",
       "      <th>9174</th>\n",
       "      <td>Kanakpura Road</td>\n",
       "      <td>2 BHK</td>\n",
       "      <td>700.00</td>\n",
       "      <td>1.0</td>\n",
       "      <td>41.00</td>\n",
       "      <td>2</td>\n",
       "      <td>5857</td>\n",
       "      <td>-0.194796</td>\n",
       "    </tr>\n",
       "    <tr>\n",
       "      <th>6087</th>\n",
       "      <td>other</td>\n",
       "      <td>4 Bedroom</td>\n",
       "      <td>2100.00</td>\n",
       "      <td>4.0</td>\n",
       "      <td>90.00</td>\n",
       "      <td>4</td>\n",
       "      <td>4285</td>\n",
       "      <td>-0.574412</td>\n",
       "    </tr>\n",
       "    <tr>\n",
       "      <th>4897</th>\n",
       "      <td>Bannerghatta</td>\n",
       "      <td>3 BHK</td>\n",
       "      <td>2370.00</td>\n",
       "      <td>4.0</td>\n",
       "      <td>195.00</td>\n",
       "      <td>3</td>\n",
       "      <td>8227</td>\n",
       "      <td>0.377527</td>\n",
       "    </tr>\n",
       "    <tr>\n",
       "      <th>11521</th>\n",
       "      <td>Horamavu Agara</td>\n",
       "      <td>2 BHK</td>\n",
       "      <td>1220.00</td>\n",
       "      <td>2.0</td>\n",
       "      <td>39.00</td>\n",
       "      <td>2</td>\n",
       "      <td>3196</td>\n",
       "      <td>-0.837391</td>\n",
       "    </tr>\n",
       "  </tbody>\n",
       "</table>\n",
       "</div>"
      ],
      "text/plain": [
       "                location       size  total_sqft  bath   price  bhk  \\\n",
       "9677        Marathahalli      2 BHK     1270.00   2.0   73.00    2   \n",
       "10178    Electronic City      2 BHK     1065.00   2.0   30.76    2   \n",
       "7222              Hebbal      3 BHK     1355.00   3.0   83.87    3   \n",
       "2261   Bannerghatta Road      2 BHK     1255.00   2.0   65.26    2   \n",
       "3074           Hosa Road      3 BHK     1541.00   3.0   69.84    3   \n",
       "5101          Seegehalli      2 BHK     1096.00   2.0   41.00    2   \n",
       "6786           Ardendale      3 BHK     1777.26   3.0  105.00    3   \n",
       "8186     Electronic City      3 BHK     1470.00   2.0   44.10    3   \n",
       "139            Yelahanka      5 BHK     3050.00   5.0  213.00    5   \n",
       "11473              other      2 BHK     1500.00   2.0   60.00    2   \n",
       "4969     Electronic City      2 BHK     1090.00   2.0   35.03    2   \n",
       "9174      Kanakpura Road      2 BHK      700.00   1.0   41.00    2   \n",
       "6087               other  4 Bedroom     2100.00   4.0   90.00    4   \n",
       "4897        Bannerghatta      3 BHK     2370.00   4.0  195.00    3   \n",
       "11521     Horamavu Agara      2 BHK     1220.00   2.0   39.00    2   \n",
       "\n",
       "       price_per_sqft   z-score  \n",
       "9677             5748 -0.221118  \n",
       "10178            2888 -0.911769  \n",
       "7222             6189 -0.114622  \n",
       "2261             5200 -0.353452  \n",
       "3074             4532 -0.514765  \n",
       "5101             3740 -0.706022  \n",
       "6786             5907 -0.182722  \n",
       "8186             3000 -0.884722  \n",
       "139              6983  0.077118  \n",
       "11473            4000 -0.643236  \n",
       "4969             3213 -0.833286  \n",
       "9174             5857 -0.194796  \n",
       "6087             4285 -0.574412  \n",
       "4897             8227  0.377527  \n",
       "11521            3196 -0.837391  "
      ]
     },
     "execution_count": 13,
     "metadata": {},
     "output_type": "execute_result"
    }
   ],
   "source": [
    "df_by_percentile['z-score'] = (df_by_percentile.price_per_sqft - df_by_percentile.price_per_sqft.mean()) / df_by_percentile.price_per_sqft.std()\n",
    "df_by_percentile.sample(15)"
   ]
  },
  {
   "cell_type": "code",
   "execution_count": 14,
   "id": "2a965cd3",
   "metadata": {},
   "outputs": [
    {
     "data": {
      "text/plain": [
       "(13047, 8)"
      ]
     },
     "execution_count": 14,
     "metadata": {},
     "output_type": "execute_result"
    }
   ],
   "source": [
    "df_by_z_score = df_by_percentile[(df_by_percentile['z-score'] > -4) & (df_by_percentile['z-score'] < 4)]\n",
    "df_by_z_score.shape"
   ]
  },
  {
   "cell_type": "code",
   "execution_count": 15,
   "id": "299e57be",
   "metadata": {},
   "outputs": [
    {
     "data": {
      "text/plain": [
       "0"
      ]
     },
     "execution_count": 15,
     "metadata": {},
     "output_type": "execute_result"
    }
   ],
   "source": [
    "df_by_std.shape[0] - df_by_z_score.shape[0]"
   ]
  },
  {
   "cell_type": "code",
   "execution_count": null,
   "id": "4667a9a5",
   "metadata": {},
   "outputs": [],
   "source": []
  }
 ],
 "metadata": {
  "kernelspec": {
   "display_name": "Python 3",
   "language": "python",
   "name": "python3"
  },
  "language_info": {
   "codemirror_mode": {
    "name": "ipython",
    "version": 3
   },
   "file_extension": ".py",
   "mimetype": "text/x-python",
   "name": "python",
   "nbconvert_exporter": "python",
   "pygments_lexer": "ipython3",
   "version": "3.8.8"
  }
 },
 "nbformat": 4,
 "nbformat_minor": 5
}
